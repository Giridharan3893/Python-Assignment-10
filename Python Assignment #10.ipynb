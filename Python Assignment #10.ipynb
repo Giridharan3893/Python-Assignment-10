{
 "cells": [
  {
   "cell_type": "code",
   "execution_count": 9,
   "id": "592a0c6a",
   "metadata": {},
   "outputs": [
    {
     "name": "stdout",
     "output_type": "stream",
     "text": [
      "dictionary before performing remove is : {'sai': 22, 'kiran': 21, 'vinod': 21, 'sangam': 21}\n",
      "dictionary after remove is : {'sai': 22, 'kiran': 21, 'sangam': 21}\n"
     ]
    }
   ],
   "source": [
    "## Answer 1:\n",
    "test_dict = {\"sai\" : 22, \"kiran\" : 21, \"vinod\" : 21, \"sangam\" : 21}\n",
    "\n",
    "# Printing dictionary before removal\n",
    "print (\"dictionary before performing remove is : \" + str(test_dict))\n",
    "\n",
    "# Using items() + dict comprehension to remove a dict. pair\n",
    "# removes  vinod\n",
    "new_dict = {key:val for key, val in test_dict.items() if key != 'vinod'}\n",
    "\n",
    "# Printing dictionary after removal\n",
    "print (\"dictionary after remove is : \" + str(new_dict))"
   ]
  },
  {
   "cell_type": "code",
   "execution_count": 12,
   "id": "527eecbe",
   "metadata": {},
   "outputs": [
    {
     "name": "stdout",
     "output_type": "stream",
     "text": [
      "The list printed sorting by age: \n",
      "[{'name': 'Karthik', 'age': 19}, {'name': 'Giri', 'age': 20}, {'name': 'Hari', 'age': 20}]\n",
      "\r\n",
      "The list printed sorting by age and name: \n",
      "[{'name': 'Karthik', 'age': 19}, {'name': 'Giri', 'age': 20}, {'name': 'Hari', 'age': 20}]\n",
      "\r\n",
      "The list printed sorting by age in descending order: \n",
      "[{'name': 'Giri', 'age': 20}, {'name': 'Hari', 'age': 20}, {'name': 'Karthik', 'age': 19}]\n"
     ]
    }
   ],
   "source": [
    "## Answer 2:\n",
    "\n",
    "lis = [{ \"name\" : \"Giri\", \"age\" : 20},\n",
    "{ \"name\" : \"Hari\", \"age\" : 20 },\n",
    "{ \"name\" : \"Karthik\" , \"age\" : 19 }]\n",
    " \n",
    "print (\"The list printed sorting by age: \")\n",
    "print (sorted(lis, key = lambda i: i['age']))\n",
    " \n",
    "print (\"\\r\")\n",
    "\n",
    "print (\"The list printed sorting by age and name: \")\n",
    "print (sorted(lis, key = lambda i: (i['age'], i['name'])))\n",
    " \n",
    "print (\"\\r\")\n",
    "\n",
    "print (\"The list printed sorting by age in descending order: \")\n",
    "print (sorted(lis, key = lambda i: i['age'],reverse=True))"
   ]
  },
  {
   "cell_type": "code",
   "execution_count": 13,
   "id": "f8099465",
   "metadata": {},
   "outputs": [
    {
     "name": "stdout",
     "output_type": "stream",
     "text": [
      "The list printed sorting by age: \n",
      "[{'name': 'Karthi', 'age': 19}, {'name': 'Giri', 'age': 20}, {'name': 'Hari', 'age': 20}]\n",
      "\r\n",
      "The list printed sorting by age and name: \n",
      "[{'name': 'Karthi', 'age': 19}, {'name': 'Giri', 'age': 20}, {'name': 'Hari', 'age': 20}]\n",
      "\r\n",
      "The list printed sorting by age in descending order: \n",
      "[{'name': 'Giri', 'age': 20}, {'name': 'Hari', 'age': 20}, {'name': 'Karthi', 'age': 19}]\n"
     ]
    }
   ],
   "source": [
    "## Answer 3:\n",
    "\n",
    "lis = [{ \"name\" : \"Giri\", \"age\" : 20},\n",
    "{ \"name\" : \"Hari\", \"age\" : 20 },\n",
    "{ \"name\" : \"Karthi\" , \"age\" : 19 }]\n",
    " \n",
    "print (\"The list printed sorting by age: \")\n",
    "print (sorted(lis, key = lambda i: i['age']))\n",
    " \n",
    "print (\"\\r\")\n",
    "\n",
    "print (\"The list printed sorting by age and name: \")\n",
    "print (sorted(lis, key = lambda i: (i['age'], i['name'])))\n",
    " \n",
    "print (\"\\r\")\n",
    " \n",
    "print (\"The list printed sorting by age in descending order: \")\n",
    "print (sorted(lis, key = lambda i: i['age'],reverse=True))"
   ]
  },
  {
   "cell_type": "code",
   "execution_count": 14,
   "id": "b70ffe8c",
   "metadata": {},
   "outputs": [
    {
     "name": "stdout",
     "output_type": "stream",
     "text": [
      "None\n",
      "{'d': 6, 'c': 4, 'a': 10, 'b': 8}\n"
     ]
    }
   ],
   "source": [
    "## Answer 4:\n",
    "\n",
    "def Merge(dict1, dict2):\n",
    "    return(dict2.update(dict1))\n",
    "     \n",
    "dict1 = {'a': 10, 'b': 8}\n",
    "dict2 = {'d': 6, 'c': 4}\n",
    " \n",
    "print(Merge(dict1, dict2))\n",
    " \n",
    "print(dict2)"
   ]
  },
  {
   "cell_type": "code",
   "execution_count": 15,
   "id": "b5dc760f",
   "metadata": {},
   "outputs": [
    {
     "name": "stdout",
     "output_type": "stream",
     "text": [
      "The original dictionary is : {'month': [1, 2, 3], 'name': ['Jan', 'Feb', 'March']}\n",
      "Flattened dictionary : {1: 'Jan', 2: 'Feb', 3: 'March'}\n"
     ]
    }
   ],
   "source": [
    "## Answer 5:\n",
    "\n",
    "from itertools import product\n",
    "  \n",
    "test_dict = {'month' : [1, 2, 3],\n",
    "             'name' : ['Jan', 'Feb', 'March']}\n",
    "print(\"The original dictionary is : \" + str(test_dict))\n",
    "res = dict(zip(test_dict['month'], test_dict['name']))\n",
    "\n",
    "print(\"Flattened dictionary : \" + str(res)) "
   ]
  },
  {
   "cell_type": "code",
   "execution_count": 16,
   "id": "7d93ed2c",
   "metadata": {},
   "outputs": [
    {
     "name": "stdout",
     "output_type": "stream",
     "text": [
      "Resultant Dictionary : OrderedDict([('manjeet', '3'), ('akshat', '1'), ('nikhil', '2')])\n"
     ]
    }
   ],
   "source": [
    "## Answer 6:\n",
    "\n",
    "from collections import OrderedDict\n",
    "\n",
    "iniordered_dict = OrderedDict([('akshat', '1'), ('nikhil', '2')])\n",
    " \n",
    "iniordered_dict.update({'manjeet':'3'})\n",
    "iniordered_dict.move_to_end('manjeet', last = False)\n",
    "\n",
    "print (\"Resultant Dictionary : \"+str(iniordered_dict))"
   ]
  },
  {
   "cell_type": "code",
   "execution_count": 18,
   "id": "d8e93074",
   "metadata": {},
   "outputs": [
    {
     "name": "stdout",
     "output_type": "stream",
     "text": [
      "true\n"
     ]
    }
   ],
   "source": [
    "## Answer 7:\n",
    "\n",
    "from collections import OrderedDict \n",
    "  \n",
    "def checkOrder(input, pattern): \n",
    "    dict = OrderedDict.fromkeys(input) \n",
    "    ptrlen = 0\n",
    "    for key,value in dict.items(): \n",
    "        if (key == pattern[ptrlen]): \n",
    "            ptrlen = ptrlen + 1\n",
    "          \n",
    "        if (ptrlen == (len(pattern))): \n",
    "            return 'true'\n",
    "    return 'false'\n",
    "if __name__ == \"__main__\": \n",
    "    input = 'engineers rock'\n",
    "    pattern = 'egr'\n",
    "    print (checkOrder(input,pattern))"
   ]
  },
  {
   "cell_type": "code",
   "execution_count": 19,
   "id": "5a65c79d",
   "metadata": {},
   "outputs": [
    {
     "name": "stdout",
     "output_type": "stream",
     "text": [
      "john\n"
     ]
    }
   ],
   "source": [
    "## Answer 8:\n",
    "\n",
    "from collections import Counter\n",
    " \n",
    "def winner(input):\n",
    "    votes = Counter(input)\n",
    "    dict = {}\n",
    " \n",
    "    for value in votes.values():\n",
    "        dict[value] = []\n",
    " \n",
    "    for (key,value) in votes.items():\n",
    "        dict[value].append(key)\n",
    " \n",
    "    maxVote = sorted(dict.keys(),reverse=True)[0]\n",
    " \n",
    "    if len(dict[maxVote])>1:\n",
    "        print (sorted(dict[maxVote])[0])\n",
    "    else:\n",
    "        print (dict[maxVote][0])\n",
    "\n",
    "if __name__ == \"__main__\":\n",
    "    input =['john','johnny','jackie','johnny',\n",
    "            'john','jackie','jamie','jamie',\n",
    "            'john','johnny','jamie','johnny',\n",
    "            'john']\n",
    "    winner(input)"
   ]
  },
  {
   "cell_type": "code",
   "execution_count": 20,
   "id": "13aea665",
   "metadata": {},
   "outputs": [
    {
     "name": "stdout",
     "output_type": "stream",
     "text": [
      "The original dictionary is : {'Gfg': 1, 'is': 3, 'Best': 2}\n",
      "The ordered keys and values : ['Gfg', 'is', 'Best', 1, 3, 2]\n"
     ]
    }
   ],
   "source": [
    "## Answer 9:\n",
    "\n",
    "test_dict = {\"Gfg\" : 1, \"is\" :  3, \"Best\" : 2}\n",
    "print(\"The original dictionary is : \" + str(test_dict))\n",
    "res = list(test_dict.keys()) + list(test_dict.values())\n",
    "print(\"The ordered keys and values : \" + str(res)) "
   ]
  },
  {
   "cell_type": "code",
   "execution_count": 31,
   "id": "5125dde2",
   "metadata": {},
   "outputs": [
    {
     "name": "stdout",
     "output_type": "stream",
     "text": [
      "Task 1:-\n",
      "\n",
      "Keys are\n",
      "1 2 3 4 5 6 "
     ]
    }
   ],
   "source": [
    "## Answer 10:\n",
    "\n",
    "def dictionairy():     \n",
    "    key_value ={}   \n",
    "    \n",
    "    key_value[2] = 56      \n",
    "    key_value[1] = 2\n",
    "    key_value[5] = 12\n",
    "    key_value[4] = 24\n",
    "    key_value[6] = 18     \n",
    "    key_value[3] = 323\n",
    " \n",
    "    print (\"Task 1:-\\n\")\n",
    "    print (\"Keys are\")\n",
    "\n",
    "    for i in sorted (key_value.keys()) :\n",
    "        print(i, end = \" \")\n",
    "def main():\n",
    "\n",
    "    dictionairy()            \n",
    "\n",
    "if __name__==\"__main__\":     \n",
    "    main()"
   ]
  }
 ],
 "metadata": {
  "kernelspec": {
   "display_name": "Python 3 (ipykernel)",
   "language": "python",
   "name": "python3"
  },
  "language_info": {
   "codemirror_mode": {
    "name": "ipython",
    "version": 3
   },
   "file_extension": ".py",
   "mimetype": "text/x-python",
   "name": "python",
   "nbconvert_exporter": "python",
   "pygments_lexer": "ipython3",
   "version": "3.9.7"
  }
 },
 "nbformat": 4,
 "nbformat_minor": 5
}
